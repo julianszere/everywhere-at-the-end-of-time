{
 "cells": [
  {
   "cell_type": "code",
   "execution_count": 50,
   "metadata": {},
   "outputs": [],
   "source": [
    "import numpy as np\n",
    "from pydub import AudioSegment\n",
    "from pydub.utils import get_array_type\n",
    "from tqdm import tqdm\n",
    "from PIL import Image"
   ]
  },
  {
   "cell_type": "code",
   "execution_count": 52,
   "metadata": {},
   "outputs": [
    {
     "name": "stderr",
     "output_type": "stream",
     "text": [
      "211it [00:08, 23.68it/s]\n"
     ]
    }
   ],
   "source": [
    "def split_audio(input_file):\n",
    "    segment_duration_ms = 1000\n",
    "    audio = AudioSegment.from_file(f'{input_file}.mp3')\n",
    "    segments = [audio[i:i+segment_duration_ms] for i in range(0, len(audio), segment_duration_ms)]\n",
    "    return segments\n",
    "\n",
    "\n",
    "def compress_segment(audio, removal_prob):\n",
    "    # Extract audio properties\n",
    "    sample_rate = audio.frame_rate\n",
    "    sample_width = audio.sample_width\n",
    "    channels = audio.channels\n",
    "\n",
    "    # Get raw audio data as a NumPy array\n",
    "    array_type = get_array_type(sample_width * 8)\n",
    "    audio_data = np.array(audio.get_array_of_samples(), dtype=array_type)\n",
    "    \n",
    "    # Normalize audio data for easier processing (convert to floats)\n",
    "    if audio_data.dtype == np.int16:\n",
    "        audio_data = audio_data / 32768.0  # Normalize to [-1, 1] for 16-bit audio\n",
    "    elif audio_data.dtype == np.int32:\n",
    "        audio_data = audio_data / 2147483648.0  # Normalize to [-1, 1] for 32-bit audio\n",
    "\n",
    "    # Randomly zero out samples based on probability\n",
    "    mask = np.random.random(size=audio_data.shape) < removal_prob\n",
    "    audio_data[mask] = 0.0  # Set the chosen samples to zero\n",
    "\n",
    "    # Convert back to the original format (denormalize)\n",
    "    if audio_data.dtype == np.float64:\n",
    "        audio_data = np.int16(audio_data * 32768)\n",
    "\n",
    "    # Convert the modified audio data back into an AudioSegment\n",
    "    modified_audio = AudioSegment(\n",
    "        audio_data.tobytes(),\n",
    "        frame_rate=sample_rate,\n",
    "        sample_width=sample_width,\n",
    "        channels=channels\n",
    "    )\n",
    "    \n",
    "    return modified_audio\n",
    "\n",
    "def compress_image(image_path, removal_prob):\n",
    "    image = Image.open(image_path)\n",
    "    image_data = np.array(image)\n",
    "    mask = np.random.random(size=image_data.shape[:2]) < removal_prob\n",
    "    image_data[mask] = [0, 0, 0]\n",
    "    modified_image = Image.fromarray(image_data.astype(np.uint8))\n",
    "    modified_image.save(f'compressed_{removal_prob}-{image_path}')\n",
    "\n",
    "def prob(i):\n",
    "    tau = 100\n",
    "    return 2/np.pi * np.arctan(i/tau)\n",
    "\n",
    "def compress_file(input_file):\n",
    "    final_track = AudioSegment.empty()\n",
    "    segments = split_audio(input_file)\n",
    "    for i, segment in tqdm(enumerate(segments)):\n",
    "        final_track += compress_segment(segment, prob(i))\n",
    "        compress_image('cover.jpg', prob(i))\n",
    "    final_track.export(f'compressed-{input_file}.mp3', format=\"mp3\")\n",
    "\n",
    "\n",
    "compress_file('Al Bowlly_ Heartaches')"
   ]
  },
  {
   "cell_type": "code",
   "execution_count": null,
   "metadata": {},
   "outputs": [],
   "source": []
  }
 ],
 "metadata": {
  "kernelspec": {
   "display_name": "Python 3",
   "language": "python",
   "name": "python3"
  },
  "language_info": {
   "codemirror_mode": {
    "name": "ipython",
    "version": 3
   },
   "file_extension": ".py",
   "mimetype": "text/x-python",
   "name": "python",
   "nbconvert_exporter": "python",
   "pygments_lexer": "ipython3",
   "version": "3.11.7"
  }
 },
 "nbformat": 4,
 "nbformat_minor": 2
}
